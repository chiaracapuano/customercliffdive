{
 "cells": [
  {
   "cell_type": "markdown",
   "source": [],
   "metadata": {
    "collapsed": false,
    "pycharm": {
     "name": "#%% md\n"
    }
   }
  },
  {
   "cell_type": "code",
   "execution_count": 4,
   "metadata": {
    "collapsed": true
   },
   "outputs": [],
   "source": [
    "import pandas as pd\n",
    "\n",
    "emails = pd.read_excel(\"yammer_emails.xlsx\")\n",
    "\n",
    "events = pd.read_excel(\"yammer_events.xlsx\")\n",
    "\n",
    "users = pd.read_excel(\"yammer_users.xlsx\")"
   ]
  },
  {
   "cell_type": "code",
   "execution_count": 5,
   "outputs": [
    {
     "name": "stdout",
     "output_type": "stream",
     "text": [
      "<class 'pandas.core.frame.DataFrame'>\n",
      "RangeIndex: 90389 entries, 0 to 90388\n",
      "Data columns (total 4 columns):\n",
      " #   Column       Non-Null Count  Dtype         \n",
      "---  ------       --------------  -----         \n",
      " 0   user_id      90389 non-null  int64         \n",
      " 1   occurred_at  90389 non-null  datetime64[ns]\n",
      " 2   action       90389 non-null  object        \n",
      " 3   user_type    90389 non-null  int64         \n",
      "dtypes: datetime64[ns](1), int64(2), object(1)\n",
      "memory usage: 2.8+ MB\n",
      "None\n",
      "<class 'pandas.core.frame.DataFrame'>\n",
      "RangeIndex: 340832 entries, 0 to 340831\n",
      "Data columns (total 7 columns):\n",
      " #   Column       Non-Null Count   Dtype         \n",
      "---  ------       --------------   -----         \n",
      " 0   user_id      340832 non-null  int64         \n",
      " 1   occurred_at  340832 non-null  datetime64[ns]\n",
      " 2   event_type   340832 non-null  object        \n",
      " 3   event_name   340832 non-null  object        \n",
      " 4   location     340832 non-null  object        \n",
      " 5   device       340832 non-null  object        \n",
      " 6   user_type    325255 non-null  float64       \n",
      "dtypes: datetime64[ns](1), float64(1), int64(1), object(4)\n",
      "memory usage: 18.2+ MB\n",
      "None\n",
      "<class 'pandas.core.frame.DataFrame'>\n",
      "RangeIndex: 19066 entries, 0 to 19065\n",
      "Data columns (total 6 columns):\n",
      " #   Column        Non-Null Count  Dtype         \n",
      "---  ------        --------------  -----         \n",
      " 0   user_id       19066 non-null  int64         \n",
      " 1   created_at    19066 non-null  datetime64[ns]\n",
      " 2   company_id    19066 non-null  int64         \n",
      " 3   language      19066 non-null  object        \n",
      " 4   activated_at  9381 non-null   datetime64[ns]\n",
      " 5   state         19066 non-null  object        \n",
      "dtypes: datetime64[ns](2), int64(2), object(2)\n",
      "memory usage: 893.8+ KB\n",
      "None\n"
     ]
    }
   ],
   "source": [
    "print(emails.info())\n",
    "print(events.info())\n",
    "print(users.info())"
   ],
   "metadata": {
    "collapsed": false,
    "pycharm": {
     "name": "#%%\n"
    }
   }
  },
  {
   "cell_type": "code",
   "execution_count": 6,
   "outputs": [
    {
     "data": {
      "text/plain": "HBox(children=(HTML(value='Summarize dataset'), FloatProgress(value=0.0, max=18.0), HTML(value='')))",
      "application/vnd.jupyter.widget-view+json": {
       "version_major": 2,
       "version_minor": 0,
       "model_id": "cc2a854d345844e99c001432cbe3c4fc"
      }
     },
     "metadata": {},
     "output_type": "display_data"
    },
    {
     "name": "stdout",
     "output_type": "stream",
     "text": [
      "\n",
      "\n",
      "\n",
      "\n",
      "\n",
      "\n",
      "\n",
      "\n",
      "\n",
      "\n",
      "\n",
      "\n"
     ]
    },
    {
     "data": {
      "text/plain": "HBox(children=(HTML(value='Generate report structure'), FloatProgress(value=0.0, max=1.0), HTML(value='')))",
      "application/vnd.jupyter.widget-view+json": {
       "version_major": 2,
       "version_minor": 0,
       "model_id": "431bd1752e9444249b9a63ad9c2de201"
      }
     },
     "metadata": {},
     "output_type": "display_data"
    },
    {
     "data": {
      "text/plain": "HBox(children=(HTML(value='Render HTML'), FloatProgress(value=0.0, max=1.0), HTML(value='')))",
      "application/vnd.jupyter.widget-view+json": {
       "version_major": 2,
       "version_minor": 0,
       "model_id": "25ec5fa9245f4e58a3d4a7f9e39ff42e"
      }
     },
     "metadata": {},
     "output_type": "display_data"
    },
    {
     "data": {
      "text/plain": "HBox(children=(HTML(value='Export report to file'), FloatProgress(value=0.0, max=1.0), HTML(value='')))",
      "application/vnd.jupyter.widget-view+json": {
       "version_major": 2,
       "version_minor": 0,
       "model_id": "31fb38ee71d849f19e9c8f7a719315ea"
      }
     },
     "metadata": {},
     "output_type": "display_data"
    },
    {
     "data": {
      "text/plain": "HBox(children=(HTML(value='Summarize dataset'), FloatProgress(value=0.0, max=21.0), HTML(value='')))",
      "application/vnd.jupyter.widget-view+json": {
       "version_major": 2,
       "version_minor": 0,
       "model_id": "b432c799a56a485e80b54ea615c32a03"
      }
     },
     "metadata": {},
     "output_type": "display_data"
    },
    {
     "data": {
      "text/plain": "HBox(children=(HTML(value='Generate report structure'), FloatProgress(value=0.0, max=1.0), HTML(value='')))",
      "application/vnd.jupyter.widget-view+json": {
       "version_major": 2,
       "version_minor": 0,
       "model_id": "5cc0691f887b4caf81e19b6057e59984"
      }
     },
     "metadata": {},
     "output_type": "display_data"
    },
    {
     "data": {
      "text/plain": "HBox(children=(HTML(value='Render HTML'), FloatProgress(value=0.0, max=1.0), HTML(value='')))",
      "application/vnd.jupyter.widget-view+json": {
       "version_major": 2,
       "version_minor": 0,
       "model_id": "dd989080a3754363ab075a176824f84e"
      }
     },
     "metadata": {},
     "output_type": "display_data"
    },
    {
     "data": {
      "text/plain": "HBox(children=(HTML(value='Export report to file'), FloatProgress(value=0.0, max=1.0), HTML(value='')))",
      "application/vnd.jupyter.widget-view+json": {
       "version_major": 2,
       "version_minor": 0,
       "model_id": "b715355005564418a4f90039c20585d2"
      }
     },
     "metadata": {},
     "output_type": "display_data"
    },
    {
     "data": {
      "text/plain": "HBox(children=(HTML(value='Summarize dataset'), FloatProgress(value=0.0, max=20.0), HTML(value='')))",
      "application/vnd.jupyter.widget-view+json": {
       "version_major": 2,
       "version_minor": 0,
       "model_id": "d0a0d583195242a08290b54d43cec29b"
      }
     },
     "metadata": {},
     "output_type": "display_data"
    },
    {
     "data": {
      "text/plain": "HBox(children=(HTML(value='Generate report structure'), FloatProgress(value=0.0, max=1.0), HTML(value='')))",
      "application/vnd.jupyter.widget-view+json": {
       "version_major": 2,
       "version_minor": 0,
       "model_id": "33b74fa4091b4ee8a1318565aa5d4099"
      }
     },
     "metadata": {},
     "output_type": "display_data"
    },
    {
     "data": {
      "text/plain": "HBox(children=(HTML(value='Render HTML'), FloatProgress(value=0.0, max=1.0), HTML(value='')))",
      "application/vnd.jupyter.widget-view+json": {
       "version_major": 2,
       "version_minor": 0,
       "model_id": "3a462e6c5ef44de49303ee3595ada492"
      }
     },
     "metadata": {},
     "output_type": "display_data"
    },
    {
     "data": {
      "text/plain": "HBox(children=(HTML(value='Export report to file'), FloatProgress(value=0.0, max=1.0), HTML(value='')))",
      "application/vnd.jupyter.widget-view+json": {
       "version_major": 2,
       "version_minor": 0,
       "model_id": "c317a7dc33544bd599722011ad2d68e4"
      }
     },
     "metadata": {},
     "output_type": "display_data"
    }
   ],
   "source": [
    "from pandas_profiling import ProfileReport\n",
    "profile = ProfileReport(emails, title='Pandas Profiling Report')\n",
    "profile.to_file(output_file='emails.html')\n",
    "profile = ProfileReport(events, title='Pandas Profiling Report')\n",
    "profile.to_file(output_file='events.html')\n",
    "profile = ProfileReport(users, title='Pandas Profiling Report')\n",
    "profile.to_file(output_file='users.html')\n"
   ],
   "metadata": {
    "collapsed": false,
    "pycharm": {
     "name": "#%%\n"
    }
   }
  },
  {
   "cell_type": "code",
   "execution_count": 10,
   "outputs": [],
   "source": [
    "user_events = users.merge(events, on = 'user_id', suffixes = ('_usr', '_events'))\n",
    "df = user_events.merge(emails, on = 'user_id', suffixes = ('_usr_events', '_emails'))"
   ],
   "metadata": {
    "collapsed": false,
    "pycharm": {
     "name": "#%%\n"
    }
   }
  },
  {
   "cell_type": "code",
   "execution_count": 11,
   "outputs": [
    {
     "data": {
      "text/plain": "HBox(children=(HTML(value='Summarize dataset'), FloatProgress(value=0.0, max=29.0), HTML(value='')))",
      "application/vnd.jupyter.widget-view+json": {
       "version_major": 2,
       "version_minor": 0,
       "model_id": "bad9431da79148d8b74e6d6e0ece783d"
      }
     },
     "metadata": {},
     "output_type": "display_data"
    },
    {
     "name": "stdout",
     "output_type": "stream",
     "text": [
      "\n",
      "\n",
      "\n",
      "\n"
     ]
    },
    {
     "data": {
      "text/plain": "HBox(children=(HTML(value='Generate report structure'), FloatProgress(value=0.0, max=1.0), HTML(value='')))",
      "application/vnd.jupyter.widget-view+json": {
       "version_major": 2,
       "version_minor": 0,
       "model_id": "41f830789c9e459f9fa74640f35642bc"
      }
     },
     "metadata": {},
     "output_type": "display_data"
    },
    {
     "data": {
      "text/plain": "HBox(children=(HTML(value='Render HTML'), FloatProgress(value=0.0, max=1.0), HTML(value='')))",
      "application/vnd.jupyter.widget-view+json": {
       "version_major": 2,
       "version_minor": 0,
       "model_id": "70d4a1cac7ad4b8d8d181f1b2f49df60"
      }
     },
     "metadata": {},
     "output_type": "display_data"
    },
    {
     "data": {
      "text/plain": "HBox(children=(HTML(value='Export report to file'), FloatProgress(value=0.0, max=1.0), HTML(value='')))",
      "application/vnd.jupyter.widget-view+json": {
       "version_major": 2,
       "version_minor": 0,
       "model_id": "64fdf53978ca41e185f38e9627e10453"
      }
     },
     "metadata": {},
     "output_type": "display_data"
    }
   ],
   "source": [
    "profile = ProfileReport(df, title='df')\n",
    "profile.to_file(output_file='df.html')"
   ],
   "metadata": {
    "collapsed": false,
    "pycharm": {
     "name": "#%%\n"
    }
   }
  },
  {
   "cell_type": "markdown",
   "source": [
    "The first thing to look into is"
   ],
   "metadata": {
    "collapsed": false,
    "pycharm": {
     "name": "#%% md\n"
    }
   }
  },
  {
   "cell_type": "code",
   "execution_count": 17,
   "outputs": [],
   "source": [
    "df['created_at'] = df['created_at'].dt.date\n",
    "df['activated_at'] = df['activated_at'].dt.date\n",
    "df['occurred_at_usr_events'] = df['occurred_at_usr_events'].dt.date"
   ],
   "metadata": {
    "collapsed": false,
    "pycharm": {
     "name": "#%%\n"
    }
   }
  },
  {
   "cell_type": "code",
   "execution_count": 22,
   "outputs": [],
   "source": [
    "import matplotlib.pyplot as plt\n",
    "import matplotlib\n",
    "from matplotlib import style\n",
    "style.use('seaborn-white')"
   ],
   "metadata": {
    "collapsed": false,
    "pycharm": {
     "name": "#%%\n"
    }
   }
  },
  {
   "cell_type": "code",
   "execution_count": 20,
   "outputs": [
    {
     "name": "stdout",
     "output_type": "stream",
     "text": [
      "created_at\n",
      "2013-01-01     6198\n",
      "2013-01-02    14386\n",
      "2013-01-03     1675\n",
      "2013-01-05      115\n",
      "2013-01-07     8499\n",
      "              ...  \n",
      "2014-08-25     3112\n",
      "2014-08-26     1940\n",
      "2014-08-27     2250\n",
      "2014-08-28       83\n",
      "2014-08-29       41\n",
      "Name: user_id, Length: 573, dtype: int64\n"
     ]
    }
   ],
   "source": [
    "df_usr_count = df.groupby(['created_at'])['user_id'].count()\n",
    "df_usr_count.plot(x='created_at', y='user_id', rot= 90)\n",
    "plt.xlabel(\"\")\n",
    "plt.show()"
   ],
   "metadata": {
    "collapsed": false,
    "pycharm": {
     "name": "#%%\n"
    }
   }
  },
  {
   "cell_type": "code",
   "execution_count": 24,
   "outputs": [
    {
     "data": {
      "text/plain": "<Figure size 432x288 with 1 Axes>",
      "image/png": "[encoded data removed]"
     },
     "metadata": {},
     "output_type": "display_data"
    }
   ],
   "source": [
    "df_act_count = df.groupby(['activated_at'])['user_id'].count()\n",
    "df_usr_count.plot(x='activated_at', y='user_id', rot= 90)\n",
    "plt.xlabel(\"\")\n",
    "plt.show()"
   ],
   "metadata": {
    "collapsed": false,
    "pycharm": {
     "name": "#%%\n"
    }
   }
  },
  {
   "cell_type": "markdown",
   "source": [
    "Are events happening as before?"
   ],
   "metadata": {
    "collapsed": false
   }
  },
  {
   "cell_type": "code",
   "execution_count": 16,
   "outputs": [
    {
     "name": "stdout",
     "output_type": "stream",
     "text": [
      "occurred_at_usr_events  event_name         \n",
      "2014-05-01 02:27:15     login                  25\n",
      "2014-05-01 02:27:44     home_page              25\n",
      "2014-05-01 02:28:20     view_inbox             25\n",
      "2014-05-01 02:28:48     send_message           25\n",
      "2014-05-01 02:29:16     home_page              25\n",
      "                                               ..\n",
      "2014-08-31 23:01:46     like_message            3\n",
      "2014-08-31 23:02:05     search_autocomplete     3\n",
      "2014-08-31 23:02:31     search_autocomplete     3\n",
      "2014-08-31 23:03:13     search_autocomplete     3\n",
      "2014-08-31 23:03:39     search_autocomplete     3\n",
      "Name: event_name, Length: 319807, dtype: int64\n"
     ]
    }
   ],
   "source": [
    "df_event_names = df.groupby(['occurred_at_usr_events','event_name'])['event_name'].count()\n",
    "print(df_event_names)"
   ],
   "metadata": {
    "collapsed": false,
    "pycharm": {
     "name": "#%%\n"
    }
   }
  },
  {
   "cell_type": "code",
   "execution_count": null,
   "outputs": [],
   "source": [
    "#df.plot(x='occurred_at_usr_events', y='event_name')"
   ],
   "metadata": {
    "collapsed": false,
    "pycharm": {
     "name": "#%%\n"
    }
   }
  }
 ],
 "metadata": {
  "kernelspec": {
   "display_name": "Python 3",
   "language": "python",
   "name": "python3"
  },
  "language_info": {
   "codemirror_mode": {
    "name": "ipython",
    "version": 2
   },
   "file_extension": ".py",
   "mimetype": "text/x-python",
   "name": "python",
   "nbconvert_exporter": "python",
   "pygments_lexer": "ipython2",
   "version": "2.7.6"
  }
 },
 "nbformat": 4,
 "nbformat_minor": 0
}